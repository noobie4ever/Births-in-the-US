{
 "cells": [
  {
   "cell_type": "markdown",
   "metadata": {},
   "source": [
    "Part I\n",
    "\n",
    "Read the CSV file \"US_births_1994-2003_CDC_NCHS.csv\" into a string.\n",
    "Split the string on the newline character (\"\\n\").\n",
    "Display the first 10 values in the resulting list."
   ]
  },
  {
   "cell_type": "code",
   "execution_count": 45,
   "metadata": {
    "collapsed": false
   },
   "outputs": [
    {
     "name": "stdout",
     "output_type": "stream",
     "text": [
      "year,month,date_of_month,day_of_week,births\n",
      "1994,1,1,6,8096\n",
      "1994,1,2,7,7772\n",
      "1994,1,3,1,10142\n",
      "1994,1,4,2,11248\n",
      "1994,1,5,3,11053\n",
      "1994,1,6,4,11406\n",
      "1994,1,7,5,11251\n",
      "1994,1,8,6,8653\n",
      "1994,1,9,7,7910\n",
      "1994,1,10,1,10498\n",
      "1994,1,11,2,11706\n",
      "1994,1,12,3,11567\n",
      "1994,1,13,4,11212\n",
      "1994,1,14,5,11570\n",
      "1994,1,15,6,8660\n",
      "1994,1,16,7,8123\n",
      "1994,1,17,1,10567\n",
      "1994,1,18,2,11541\n",
      "1994,1,19,3,11257\n",
      "1994,1,20,4,11682\n",
      "1994,1,21,5,11811\n",
      "1994,1,22,6,8833\n",
      "1994,1,23,7,8310\n",
      "1994,1,24,1,11125\n",
      "1994,1,25,2,11981\n",
      "1994,1,26,3,11514\n",
      "\n"
     ]
    }
   ],
   "source": [
    "file = open('US_births_1994-2003_CDC_NCHS.csv', 'r')\n",
    "f = file.read()\n",
    "print(f[0:495])"
   ]
  },
  {
   "cell_type": "code",
   "execution_count": 3,
   "metadata": {
    "collapsed": false,
    "scrolled": true
   },
   "outputs": [
    {
     "data": {
      "text/plain": [
       "['year,month,date_of_month,day_of_week,births',\n",
       " '1994,1,1,6,8096',\n",
       " '1994,1,2,7,7772',\n",
       " '1994,1,3,1,10142',\n",
       " '1994,1,4,2,11248',\n",
       " '1994,1,5,3,11053',\n",
       " '1994,1,6,4,11406',\n",
       " '1994,1,7,5,11251',\n",
       " '1994,1,8,6,8653',\n",
       " '1994,1,9,7,7910']"
      ]
     },
     "execution_count": 3,
     "metadata": {},
     "output_type": "execute_result"
    }
   ],
   "source": [
    "f_split = f.split('\\n')\n",
    "f_split[0:10]"
   ]
  },
  {
   "cell_type": "markdown",
   "metadata": {},
   "source": [
    "Part II"
   ]
  },
  {
   "cell_type": "code",
   "execution_count": 4,
   "metadata": {
    "collapsed": false
   },
   "outputs": [
    {
     "data": {
      "text/plain": [
       "[[1994, 1, 1, 6, 8096],\n",
       " [1994, 1, 2, 7, 7772],\n",
       " [1994, 1, 3, 1, 10142],\n",
       " [1994, 1, 4, 2, 11248],\n",
       " [1994, 1, 5, 3, 11053],\n",
       " [1994, 1, 6, 4, 11406],\n",
       " [1994, 1, 7, 5, 11251],\n",
       " [1994, 1, 8, 6, 8653],\n",
       " [1994, 1, 9, 7, 7910],\n",
       " [1994, 1, 10, 1, 10498]]"
      ]
     },
     "execution_count": 4,
     "metadata": {},
     "output_type": "execute_result"
    }
   ],
   "source": [
    "def read_csv(input_file):\n",
    "    file = open(input_file, 'r').read().split('\\n')\n",
    "    string_list = file[1:]\n",
    "    final_list = []\n",
    "    for line in string_list:\n",
    "        string_fields = line.split(',')\n",
    "        int_fields = []\n",
    "        for each in string_fields:\n",
    "            int_fields.append(int(each))\n",
    "        final_list.append(int_fields)\n",
    "    return final_list\n",
    "\n",
    "cdc_list = read_csv('US_births_1994-2003_CDC_NCHS.csv')\n",
    "cdc_list[0:10]"
   ]
  },
  {
   "cell_type": "code",
   "execution_count": 43,
   "metadata": {
    "collapsed": false,
    "scrolled": true
   },
   "outputs": [
    {
     "data": {
      "text/plain": [
       "[['year', 'month', 'date_of_month', 'day_of_week', 'births'],\n",
       " ['1994', '1', '1', '6', '8096'],\n",
       " ['1994', '1', '2', '7', '7772'],\n",
       " ['1994', '1', '3', '1', '10142'],\n",
       " ['1994', '1', '4', '2', '11248'],\n",
       " ['1994', '1', '5', '3', '11053'],\n",
       " ['1994', '1', '6', '4', '11406'],\n",
       " ['1994', '1', '7', '5', '11251'],\n",
       " ['1994', '1', '8', '6', '8653'],\n",
       " ['1994', '1', '9', '7', '7910']]"
      ]
     },
     "execution_count": 43,
     "metadata": {},
     "output_type": "execute_result"
    }
   ],
   "source": [
    "file = open('US_births_1994-2003_CDC_NCHS.csv').read().split('\\n')\n",
    "final_list = []\n",
    "for lines in file:\n",
    "    string_field = lines.split(',')\n",
    "    final_list.append(string_field)\n",
    "final_list[0:10]\n",
    "# find out what is string_field"
   ]
  },
  {
   "cell_type": "markdown",
   "metadata": {},
   "source": [
    "PART III"
   ]
  },
  {
   "cell_type": "code",
   "execution_count": 23,
   "metadata": {
    "collapsed": false
   },
   "outputs": [
    {
     "data": {
      "text/plain": [
       "{1: 3232517,\n",
       " 2: 3018140,\n",
       " 3: 3322069,\n",
       " 4: 3185314,\n",
       " 5: 3350907,\n",
       " 6: 3296530,\n",
       " 7: 3498783,\n",
       " 8: 3525858,\n",
       " 9: 3439698,\n",
       " 10: 3378814,\n",
       " 11: 3171647,\n",
       " 12: 3301860}"
      ]
     },
     "execution_count": 23,
     "metadata": {},
     "output_type": "execute_result"
    }
   ],
   "source": [
    "def month_birth(input_lst):\n",
    "    birth_per_month = {}\n",
    "    for lst in input_lst:\n",
    "        month = lst[1]\n",
    "        num = lst[4]\n",
    "        if month not in birth_per_month:\n",
    "            birth_per_month[month] = num\n",
    "        else:\n",
    "            birth_per_month[month] += num\n",
    "    return birth_per_month\n",
    "\n",
    "cdc_month_births = month_birth(cdc_list)\n",
    "cdc_month_births"
   ]
  },
  {
   "cell_type": "markdown",
   "metadata": {},
   "source": [
    "PART IV"
   ]
  },
  {
   "cell_type": "code",
   "execution_count": 6,
   "metadata": {
    "collapsed": false
   },
   "outputs": [
    {
     "data": {
      "text/plain": [
       "{1: 5789166,\n",
       " 2: 6446196,\n",
       " 3: 6322855,\n",
       " 4: 6288429,\n",
       " 5: 6233657,\n",
       " 6: 4562111,\n",
       " 7: 4079723}"
      ]
     },
     "execution_count": 6,
     "metadata": {},
     "output_type": "execute_result"
    }
   ],
   "source": [
    "def dow_birth(input_lst):\n",
    "    birth_per_day_of_week = {}\n",
    "    for lst in input_lst:\n",
    "        day = lst[3]\n",
    "        num = lst[4]\n",
    "        if day not in birth_per_day_of_week:\n",
    "            birth_per_day_of_week[day] = num\n",
    "        else:\n",
    "            birth_per_day_of_week[day] += num\n",
    "    return birth_per_day_of_week\n",
    "\n",
    "cdc_day_birth = dow_birth(cdc_list)\n",
    "cdc_day_birth"
   ]
  },
  {
   "cell_type": "markdown",
   "metadata": {},
   "source": [
    "PART V"
   ]
  },
  {
   "cell_type": "code",
   "execution_count": 8,
   "metadata": {
    "collapsed": false
   },
   "outputs": [],
   "source": [
    "def calc_counts(data, column):\n",
    "    birth_per_timestamp = {}\n",
    "    for lst in data:\n",
    "        date = lst[column]\n",
    "        num = lst[4]\n",
    "        if date not in birth_per_timestamp:\n",
    "            birth_per_timestamp[date] = num\n",
    "        else:\n",
    "            birth_per_timestamp[date] += num\n",
    "    return birth_per_timestamp\n",
    "\n",
    "cdc_year_births = calc_counts(cdc_list, 0)\n",
    "cdc_month_births = calc_counts(cdc_list, 1)\n",
    "cdc_dom_births =  calc_counts(cdc_list, 2)\n",
    "cdc_dow_births =  calc_counts(cdc_list, 3)"
   ]
  },
  {
   "cell_type": "code",
   "execution_count": 9,
   "metadata": {
    "collapsed": false,
    "scrolled": true
   },
   "outputs": [
    {
     "data": {
      "text/plain": [
       "{1994: 3952767,\n",
       " 1995: 3899589,\n",
       " 1996: 3891494,\n",
       " 1997: 3880894,\n",
       " 1998: 3941553,\n",
       " 1999: 3959417,\n",
       " 2000: 4058814,\n",
       " 2001: 4025933,\n",
       " 2002: 4021726,\n",
       " 2003: 4089950}"
      ]
     },
     "execution_count": 9,
     "metadata": {},
     "output_type": "execute_result"
    }
   ],
   "source": [
    "cdc_year_births"
   ]
  },
  {
   "cell_type": "code",
   "execution_count": 10,
   "metadata": {
    "collapsed": false
   },
   "outputs": [
    {
     "data": {
      "text/plain": [
       "{1: 1276557,\n",
       " 2: 1288739,\n",
       " 3: 1304499,\n",
       " 4: 1288154,\n",
       " 5: 1299953,\n",
       " 6: 1304474,\n",
       " 7: 1310459,\n",
       " 8: 1312297,\n",
       " 9: 1303292,\n",
       " 10: 1320764,\n",
       " 11: 1314361,\n",
       " 12: 1318437,\n",
       " 13: 1277684,\n",
       " 14: 1320153,\n",
       " 15: 1319171,\n",
       " 16: 1315192,\n",
       " 17: 1324953,\n",
       " 18: 1326855,\n",
       " 19: 1318727,\n",
       " 20: 1324821,\n",
       " 21: 1322897,\n",
       " 22: 1317381,\n",
       " 23: 1293290,\n",
       " 24: 1288083,\n",
       " 25: 1272116,\n",
       " 26: 1284796,\n",
       " 27: 1294395,\n",
       " 28: 1307685,\n",
       " 29: 1223161,\n",
       " 30: 1202095,\n",
       " 31: 746696}"
      ]
     },
     "execution_count": 10,
     "metadata": {},
     "output_type": "execute_result"
    }
   ],
   "source": [
    "cdc_dom_births"
   ]
  },
  {
   "cell_type": "code",
   "execution_count": 11,
   "metadata": {
    "collapsed": false,
    "scrolled": false
   },
   "outputs": [
    {
     "data": {
      "text/plain": [
       "{1: 3232517,\n",
       " 2: 3018140,\n",
       " 3: 3322069,\n",
       " 4: 3185314,\n",
       " 5: 3350907,\n",
       " 6: 3296530,\n",
       " 7: 3498783,\n",
       " 8: 3525858,\n",
       " 9: 3439698,\n",
       " 10: 3378814,\n",
       " 11: 3171647,\n",
       " 12: 3301860}"
      ]
     },
     "execution_count": 11,
     "metadata": {},
     "output_type": "execute_result"
    }
   ],
   "source": [
    "cdc_month_births"
   ]
  },
  {
   "cell_type": "code",
   "execution_count": 34,
   "metadata": {
    "collapsed": false
   },
   "outputs": [
    {
     "data": {
      "text/plain": [
       "{1: 5789166,\n",
       " 2: 6446196,\n",
       " 3: 6322855,\n",
       " 4: 6288429,\n",
       " 5: 6233657,\n",
       " 6: 4562111,\n",
       " 7: 4079723}"
      ]
     },
     "execution_count": 34,
     "metadata": {},
     "output_type": "execute_result"
    }
   ],
   "source": [
    "cdc_dow_births"
   ]
  },
  {
   "cell_type": "markdown",
   "metadata": {},
   "source": [
    "PART VI"
   ]
  },
  {
   "cell_type": "code",
   "execution_count": 48,
   "metadata": {
    "collapsed": false
   },
   "outputs": [
    {
     "name": "stdout",
     "output_type": "stream",
     "text": [
      "4079723\n"
     ]
    }
   ],
   "source": [
    "'''def min_value(input_dict):\n",
    "    smallest = None\n",
    "    for key in input_dict:\n",
    "        if smallest is None:\n",
    "            smallest = input_dict[key]\n",
    "        elif smallest > input_dict[key]:\n",
    "            smallest = input_dict[key]\n",
    "    return smallest\n",
    "minimum = min_value(cdc_dow_births)\n",
    "print(minimum)'''"
   ]
  },
  {
   "cell_type": "code",
   "execution_count": 13,
   "metadata": {
    "collapsed": false
   },
   "outputs": [
    {
     "name": "stdout",
     "output_type": "stream",
     "text": [
      "{'maxid': 6446196, 'minid': 4079723}\n"
     ]
    }
   ],
   "source": [
    "#first question\n",
    "def min_max(input_dict):\n",
    "    minimum = None \n",
    "    maximum = None\n",
    "    for key in input_dict:\n",
    "        if minimum == None or minimum > input_dict[key]:\n",
    "            minimum = input_dict[key]\n",
    "        if maximum == None or maximum < input_dict[key]:\n",
    "            maximum = input_dict[key]\n",
    "    return {'minid':minimum, 'maxid':maximum} \n",
    "#remember return is at the end of the loop\n",
    "\n",
    "            \n",
    "min_max_val = min_max(cdc_dow_births)\n",
    "print(min_max_val)"
   ]
  },
  {
   "cell_type": "code",
   "execution_count": 33,
   "metadata": {
    "collapsed": false,
    "scrolled": true
   },
   "outputs": [
    {
     "name": "stdout",
     "output_type": "stream",
     "text": [
      "428752\n"
     ]
    }
   ],
   "source": [
    "#second question\n",
    "#[1994, 1, 1, 6, 8096]\n",
    "# calculate the births on year_weekofday\n",
    "def birth_of_yrdy(data, year, day):\n",
    "    births = 0\n",
    "    for lst in data:\n",
    "        if (lst[0] == year and lst[3] == day):\n",
    "            births = births + lst[4]\n",
    "    return births\n",
    "\n",
    "birth_of_1994_7 = birth_of_yrdy(cdc_list, 1994, 7)\n",
    "print(birth_of_1994_7)"
   ]
  },
  {
   "cell_type": "code",
   "execution_count": 38,
   "metadata": {
    "collapsed": false
   },
   "outputs": [
    {
     "name": "stdout",
     "output_type": "stream",
     "text": [
      "{'b2': 447445, 'change': 27287, 'b1': 474732}\n"
     ]
    }
   ],
   "source": [
    "## Write a function that extracts the same values across years and\n",
    "   #calculates the differences between consecutive values to show \n",
    "    #if number of births is increasing or decreasing\n",
    "\n",
    "def diff_birth(data, year1, year2, column, value):\n",
    "    births1 = 0\n",
    "    births2 = 0\n",
    "    for lst in data:\n",
    "        if (lst[0] == year1 and lst[column] == value):\n",
    "            births1 += lst[4]\n",
    "        elif (lst[0] == year2 and lst[column] == value):\n",
    "            births2 += lst[4]\n",
    "    return{'b1':births1, 'b2':births2, 'change':births1-births2}\n",
    "\n",
    "birthdiff = diff_birth(cdc_list, 1994, 2003, 3, 6)\n",
    "print(birthdiff)"
   ]
  },
  {
   "cell_type": "markdown",
   "metadata": {},
   "source": [
    "col 0 = year\n",
    "col 1 = month\n",
    "col 2 = day\n",
    "col 3 = week of day"
   ]
  }
 ],
 "metadata": {
  "anaconda-cloud": {},
  "kernelspec": {
   "display_name": "Python 3",
   "language": "python",
   "name": "python3"
  },
  "language_info": {
   "codemirror_mode": {
    "name": "ipython",
    "version": 3
   },
   "file_extension": ".py",
   "mimetype": "text/x-python",
   "name": "python",
   "nbconvert_exporter": "python",
   "pygments_lexer": "ipython3",
   "version": "3.4.3"
  }
 },
 "nbformat": 4,
 "nbformat_minor": 1
}
